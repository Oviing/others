{
  "nbformat": 4,
  "nbformat_minor": 0,
  "metadata": {
    "colab": {
      "name": "survival_analysis.ipynb",
      "provenance": [],
      "authorship_tag": "ABX9TyOe7BNjidFWhi1S7LXJl1Tv",
      "include_colab_link": true
    },
    "kernelspec": {
      "name": "ir",
      "display_name": "R"
    },
    "language_info": {
      "name": "R"
    }
  },
  "cells": [
    {
      "cell_type": "markdown",
      "metadata": {
        "id": "view-in-github",
        "colab_type": "text"
      },
      "source": [
        "<a href=\"https://colab.research.google.com/github/Oviing/survival_analysis/blob/main/survival_analysis.ipynb\" target=\"_parent\"><img src=\"https://colab.research.google.com/assets/colab-badge.svg\" alt=\"Open In Colab\"/></a>"
      ]
    },
    {
      "cell_type": "code",
      "metadata": {
        "id": "oU2MmjbuxjKt"
      },
      "source": [
        "set.seed(123)"
      ],
      "execution_count": 18,
      "outputs": []
    },
    {
      "cell_type": "code",
      "metadata": {
        "colab": {
          "base_uri": "https://localhost:8080/"
        },
        "id": "KrVyQDu2Ha-D",
        "outputId": "7e935141-5a12-4840-e66e-0492b36961a2"
      },
      "source": [
        "install.packages('BBmisc')"
      ],
      "execution_count": 222,
      "outputs": [
        {
          "output_type": "stream",
          "text": [
            "Installing package into ‘/usr/local/lib/R/site-library’\n",
            "(as ‘lib’ is unspecified)\n",
            "\n"
          ],
          "name": "stderr"
        }
      ]
    },
    {
      "cell_type": "code",
      "metadata": {
        "colab": {
          "base_uri": "https://localhost:8080/"
        },
        "id": "PghY5YBNs4gU",
        "outputId": "8a1a0a5a-7bd1-4e93-d5b8-dc94c861a22e"
      },
      "source": [
        "install.packages(\"mlr3\")"
      ],
      "execution_count": 1,
      "outputs": [
        {
          "output_type": "stream",
          "text": [
            "Installing package into ‘/usr/local/lib/R/site-library’\n",
            "(as ‘lib’ is unspecified)\n",
            "\n",
            "also installing the dependencies ‘listenv’, ‘future’, ‘globals’, ‘PRROC’, ‘checkmate’, ‘future.apply’, ‘lgr’, ‘mlbench’, ‘mlr3measures’, ‘mlr3misc’, ‘parallelly’, ‘palmerpenguins’, ‘paradox’\n",
            "\n",
            "\n"
          ],
          "name": "stderr"
        }
      ]
    },
    {
      "cell_type": "code",
      "metadata": {
        "colab": {
          "base_uri": "https://localhost:8080/"
        },
        "id": "j3qZHUjFtMcH",
        "outputId": "a8292522-f461-4a3c-b4ad-362dac323a06"
      },
      "source": [
        "install.packages(\"mlr3verse\")"
      ],
      "execution_count": 2,
      "outputs": [
        {
          "output_type": "stream",
          "text": [
            "Installing package into ‘/usr/local/lib/R/site-library’\n",
            "(as ‘lib’ is unspecified)\n",
            "\n",
            "also installing the dependencies ‘R62S3’, ‘set6’, ‘clue’, ‘clusterCrit’, ‘distr6’, ‘bbotk’, ‘mlr3cluster’, ‘mlr3data’, ‘mlr3filters’, ‘mlr3fselect’, ‘mlr3learners’, ‘mlr3pipelines’, ‘mlr3proba’, ‘mlr3tuning’, ‘mlr3viz’\n",
            "\n",
            "\n"
          ],
          "name": "stderr"
        }
      ]
    },
    {
      "cell_type": "code",
      "metadata": {
        "colab": {
          "base_uri": "https://localhost:8080/"
        },
        "id": "mthuX8oTtjoD",
        "outputId": "b72ab4ab-7a66-4f5c-d58a-78241be1bba8"
      },
      "source": [
        "remotes::install_github(\"mlr-org/mlr3extralearners\")"
      ],
      "execution_count": 3,
      "outputs": [
        {
          "output_type": "stream",
          "text": [
            "Downloading GitHub repo mlr-org/mlr3extralearners@HEAD\n",
            "\n"
          ],
          "name": "stderr"
        },
        {
          "output_type": "stream",
          "text": [
            "\n",
            "\u001b[32m✔\u001b[39m  \u001b[90mchecking for file ‘/tmp/Rtmpz8I6fU/remotes3b7ea7fc00/mlr-org-mlr3extralearners-38759e6/DESCRIPTION’\u001b[39m\u001b[36m\u001b[39m\n",
            "\u001b[90m─\u001b[39m\u001b[90m  \u001b[39m\u001b[90mpreparing ‘mlr3extralearners’:\u001b[39m\u001b[36m\u001b[39m\n",
            "\u001b[32m✔\u001b[39m  \u001b[90mchecking DESCRIPTION meta-information\u001b[39m\u001b[36m\u001b[39m\n",
            "\u001b[90m─\u001b[39m\u001b[90m  \u001b[39m\u001b[90minstalling the package to process help pages\u001b[39m\u001b[36m\u001b[39m\n",
            "\u001b[90m─\u001b[39m\u001b[90m  \u001b[39m\u001b[90msaving partial Rd database\u001b[39m\u001b[36m\u001b[36m (20.7s)\u001b[36m\u001b[39m\n",
            "\u001b[90m─\u001b[39m\u001b[90m  \u001b[39m\u001b[90mchecking for LF line-endings in source and make files and shell scripts\u001b[39m\u001b[36m\u001b[39m\n",
            "\u001b[90m─\u001b[39m\u001b[90m  \u001b[39m\u001b[90mchecking for empty or unneeded directories\u001b[39m\u001b[36m\u001b[39m\n",
            "   Removed empty directory ‘mlr3extralearners/vignettes’\n",
            "\u001b[90m─\u001b[39m\u001b[90m  \u001b[39m\u001b[90mlooking to see if a ‘data/datalist’ file should be added\u001b[39m\u001b[36m\u001b[39m\n",
            "\u001b[90m─\u001b[39m\u001b[90m  \u001b[39m\u001b[90mbuilding ‘mlr3extralearners_0.4.7.tar.gz’\u001b[39m\u001b[36m\u001b[39m\n",
            "   \n"
          ],
          "name": "stdout"
        },
        {
          "output_type": "stream",
          "text": [
            "Installing package into ‘/usr/local/lib/R/site-library’\n",
            "(as ‘lib’ is unspecified)\n",
            "\n"
          ],
          "name": "stderr"
        }
      ]
    },
    {
      "cell_type": "code",
      "metadata": {
        "colab": {
          "base_uri": "https://localhost:8080/"
        },
        "id": "v1ZF4Tw_uZec",
        "outputId": "ba5514f4-72ea-4bea-dfdb-211a5500d2bc"
      },
      "source": [
        "install.packages(\"tensorflow\")"
      ],
      "execution_count": 4,
      "outputs": [
        {
          "output_type": "stream",
          "text": [
            "Installing package into ‘/usr/local/lib/R/site-library’\n",
            "(as ‘lib’ is unspecified)\n",
            "\n",
            "also installing the dependencies ‘png’, ‘config’, ‘reticulate’, ‘tfruns’\n",
            "\n",
            "\n"
          ],
          "name": "stderr"
        }
      ]
    },
    {
      "cell_type": "code",
      "metadata": {
        "colab": {
          "base_uri": "https://localhost:8080/"
        },
        "id": "pAhPWohUvEIF",
        "outputId": "8c782db3-4283-4607-e724-6e0df501961f"
      },
      "source": [
        "install.packages(\"magrittr \")"
      ],
      "execution_count": 79,
      "outputs": [
        {
          "output_type": "stream",
          "text": [
            "Installing package into ‘/usr/local/lib/R/site-library’\n",
            "(as ‘lib’ is unspecified)\n",
            "\n",
            "Warning message:\n",
            "“package ‘magrittr ’ is not available for this version of R\n",
            "\n",
            "A version of this package for your version of R might be available elsewhere,\n",
            "see the ideas at\n",
            "https://cran.r-project.org/doc/manuals/r-patched/R-admin.html#Installing-packages”\n"
          ],
          "name": "stderr"
        }
      ]
    },
    {
      "cell_type": "code",
      "metadata": {
        "colab": {
          "base_uri": "https://localhost:8080/",
          "height": 232
        },
        "id": "MrlJQqo3upas",
        "outputId": "ad9d72eb-8f59-4a5c-df58-f31c931c992a"
      },
      "source": [
        "library(tensorflow)\n",
        "install_tensorflow()"
      ],
      "execution_count": 5,
      "outputs": [
        {
          "output_type": "error",
          "ename": "ERROR",
          "evalue": "ignored",
          "traceback": [
            "Error: could not find a Python environment for /usr/bin/python3\nTraceback:\n",
            "1. install_tensorflow()",
            "2. reticulate::py_install(packages = c(package, extra_packages), \n .     envname = envname, method = method, conda = conda, python_version = conda_python_version, \n .     pip = TRUE, ...)",
            "3. python_info(python)",
            "4. stopf(\"could not find a Python environment for %s\", python)",
            "5. stop(sprintf(fmt, ...), call. = call.)"
          ]
        }
      ]
    },
    {
      "cell_type": "code",
      "metadata": {
        "colab": {
          "base_uri": "https://localhost:8080/",
          "height": 1000
        },
        "id": "fsY_kC68uxL0",
        "outputId": "51db8327-773f-45b8-833d-8b7d2bf3af01"
      },
      "source": [
        "library(survivalmodels)\n",
        "library(mlr3)\n",
        "library(mlr3proba)  \n",
        "library(survival)\n",
        "library(mlr3misc)\n",
        "library(survival)\n",
        "library(mlr3tuning)\n",
        "library(mlr3benchmark)\n",
        "library(mlr3extralearners)\n",
        "library(paradox)\n",
        "library(mlr3learners)\n",
        "library(dplyr)\n",
        "library(magrittr)\n",
        "\n",
        "#test/train split\n",
        "\n",
        "head(gbcs)\n",
        "dim(gbcs)\n",
        "str(gbcs)\n",
        "table(gbcs$censdead)\n",
        "\n",
        "gbcs$grade <- as.factor(gbcs$grade)\n",
        "\n",
        "\n",
        "try1 <- coxph(Surv(survtime, censdead) ~ grade, data = gbcs) \n",
        "summary(try1) \n",
        "\n",
        "gbcs2 <- gbcs[,c(5:12,15:16)]\n",
        "head(gbcs2)\n",
        "str(gbcs2)\n",
        "\n",
        "gbcs2$age <- scale(gbcs2$age)\n",
        "gbcs2$menopause <- gbcs2$menopause-1\n",
        "gbcs2$hormone <- gbcs2$hormone-1\n",
        "gbcs2$size <- scale(gbcs2$size)\n",
        "gbcs2$grade <- as.factor(gbcs2$grade)\n",
        "grade123 <- with(gbcs2, data.frame(model.matrix(~grade-1))) # 3 dummies for the grade\n",
        "gbcs2$nodes <- scale(gbcs2$nodes)\n",
        "gbcs2$prog_recp <- scale(gbcs2$prog_recp)\n",
        "gbcs2$estrg_recp <- scale(gbcs2$estrg_recp)\n",
        "\n",
        "\n",
        "head(gbcs2)\n",
        "\n",
        "cov <- data.frame(gbcs2[,c(1:4, 6:10)], grade1 = grade123[,1], \n",
        "                  grade2 = grade123[,2], grade3 = grade123[,3])\n",
        "head(cov)\n",
        "\n",
        "# train/test split \n",
        "set.seed(123)\n",
        "train_set = sample(nrow(cov), 0.8 * nrow(cov))\n",
        "str(train_set)\n",
        "test_set = setdiff(seq_len(nrow(cov)), train_set)\n",
        "\n",
        "train_gbcs <- cov[train_set, ]\n",
        "dim(train_gbcs)\n",
        "head(train_gbcs)\n",
        "table(train_gbcs$censdead)\n",
        "\n",
        "test_gbcs <- cov[test_set, ]\n",
        "dim(test_gbcs)\n",
        "head(test_gbcs)\n",
        "table(test_gbcs$censdead)"
      ],
      "execution_count": 87,
      "outputs": [
        {
          "output_type": "display_data",
          "data": {
            "text/plain": [
              "  id diagdate   recdate    deathdate  age menopause hormone size grade nodes\n",
              "1 1  1984-08-17 1988-04-15 1990-11-16 38  1         1       18   3     5    \n",
              "2 2  1985-04-25 1989-03-15 1990-10-22 52  1         1       20   1     1    \n",
              "3 3  1984-10-11 1988-04-12 1988-10-06 47  1         1       30   2     1    \n",
              "4 4  1984-06-29 1984-11-24 1984-11-24 40  1         1       24   1     3    \n",
              "5 5  1984-07-03 1989-08-09 1989-08-09 64  2         2       19   2     1    \n",
              "6 6  1984-07-24 1989-11-08 1989-11-08 49  2         2       56   1     3    \n",
              "  prog_recp estrg_recp rectime censrec survtime censdead\n",
              "1 141       105        1337    1       2282     0       \n",
              "2  78        14        1420    1       2006     0       \n",
              "3 422        89        1279    1       1456     1       \n",
              "4  25        11         148    0        148     0       \n",
              "5  19         9        1863    0       1863     0       \n",
              "6 356        64        1933    0       1933     0       "
            ],
            "text/latex": "A data.frame: 6 × 16\n\\begin{tabular}{r|llllllllllllllll}\n  & id & diagdate & recdate & deathdate & age & menopause & hormone & size & grade & nodes & prog\\_recp & estrg\\_recp & rectime & censrec & survtime & censdead\\\\\n  & <int> & <date> & <date> & <date> & <dbl> & <int> & <int> & <dbl> & <fct> & <int> & <dbl> & <dbl> & <dbl> & <int> & <dbl> & <int>\\\\\n\\hline\n\t1 & 1 & 1984-08-17 & 1988-04-15 & 1990-11-16 & 38 & 1 & 1 & 18 & 3 & 5 & 141 & 105 & 1337 & 1 & 2282 & 0\\\\\n\t2 & 2 & 1985-04-25 & 1989-03-15 & 1990-10-22 & 52 & 1 & 1 & 20 & 1 & 1 &  78 &  14 & 1420 & 1 & 2006 & 0\\\\\n\t3 & 3 & 1984-10-11 & 1988-04-12 & 1988-10-06 & 47 & 1 & 1 & 30 & 2 & 1 & 422 &  89 & 1279 & 1 & 1456 & 1\\\\\n\t4 & 4 & 1984-06-29 & 1984-11-24 & 1984-11-24 & 40 & 1 & 1 & 24 & 1 & 3 &  25 &  11 &  148 & 0 &  148 & 0\\\\\n\t5 & 5 & 1984-07-03 & 1989-08-09 & 1989-08-09 & 64 & 2 & 2 & 19 & 2 & 1 &  19 &   9 & 1863 & 0 & 1863 & 0\\\\\n\t6 & 6 & 1984-07-24 & 1989-11-08 & 1989-11-08 & 49 & 2 & 2 & 56 & 1 & 3 & 356 &  64 & 1933 & 0 & 1933 & 0\\\\\n\\end{tabular}\n",
            "text/markdown": "\nA data.frame: 6 × 16\n\n| <!--/--> | id &lt;int&gt; | diagdate &lt;date&gt; | recdate &lt;date&gt; | deathdate &lt;date&gt; | age &lt;dbl&gt; | menopause &lt;int&gt; | hormone &lt;int&gt; | size &lt;dbl&gt; | grade &lt;fct&gt; | nodes &lt;int&gt; | prog_recp &lt;dbl&gt; | estrg_recp &lt;dbl&gt; | rectime &lt;dbl&gt; | censrec &lt;int&gt; | survtime &lt;dbl&gt; | censdead &lt;int&gt; |\n|---|---|---|---|---|---|---|---|---|---|---|---|---|---|---|---|---|\n| 1 | 1 | 1984-08-17 | 1988-04-15 | 1990-11-16 | 38 | 1 | 1 | 18 | 3 | 5 | 141 | 105 | 1337 | 1 | 2282 | 0 |\n| 2 | 2 | 1985-04-25 | 1989-03-15 | 1990-10-22 | 52 | 1 | 1 | 20 | 1 | 1 |  78 |  14 | 1420 | 1 | 2006 | 0 |\n| 3 | 3 | 1984-10-11 | 1988-04-12 | 1988-10-06 | 47 | 1 | 1 | 30 | 2 | 1 | 422 |  89 | 1279 | 1 | 1456 | 1 |\n| 4 | 4 | 1984-06-29 | 1984-11-24 | 1984-11-24 | 40 | 1 | 1 | 24 | 1 | 3 |  25 |  11 |  148 | 0 |  148 | 0 |\n| 5 | 5 | 1984-07-03 | 1989-08-09 | 1989-08-09 | 64 | 2 | 2 | 19 | 2 | 1 |  19 |   9 | 1863 | 0 | 1863 | 0 |\n| 6 | 6 | 1984-07-24 | 1989-11-08 | 1989-11-08 | 49 | 2 | 2 | 56 | 1 | 3 | 356 |  64 | 1933 | 0 | 1933 | 0 |\n\n",
            "text/html": [
              "<table class=\"dataframe\">\n",
              "<caption>A data.frame: 6 × 16</caption>\n",
              "<thead>\n",
              "\t<tr><th></th><th scope=col>id</th><th scope=col>diagdate</th><th scope=col>recdate</th><th scope=col>deathdate</th><th scope=col>age</th><th scope=col>menopause</th><th scope=col>hormone</th><th scope=col>size</th><th scope=col>grade</th><th scope=col>nodes</th><th scope=col>prog_recp</th><th scope=col>estrg_recp</th><th scope=col>rectime</th><th scope=col>censrec</th><th scope=col>survtime</th><th scope=col>censdead</th></tr>\n",
              "\t<tr><th></th><th scope=col>&lt;int&gt;</th><th scope=col>&lt;date&gt;</th><th scope=col>&lt;date&gt;</th><th scope=col>&lt;date&gt;</th><th scope=col>&lt;dbl&gt;</th><th scope=col>&lt;int&gt;</th><th scope=col>&lt;int&gt;</th><th scope=col>&lt;dbl&gt;</th><th scope=col>&lt;fct&gt;</th><th scope=col>&lt;int&gt;</th><th scope=col>&lt;dbl&gt;</th><th scope=col>&lt;dbl&gt;</th><th scope=col>&lt;dbl&gt;</th><th scope=col>&lt;int&gt;</th><th scope=col>&lt;dbl&gt;</th><th scope=col>&lt;int&gt;</th></tr>\n",
              "</thead>\n",
              "<tbody>\n",
              "\t<tr><th scope=row>1</th><td>1</td><td>1984-08-17</td><td>1988-04-15</td><td>1990-11-16</td><td>38</td><td>1</td><td>1</td><td>18</td><td>3</td><td>5</td><td>141</td><td>105</td><td>1337</td><td>1</td><td>2282</td><td>0</td></tr>\n",
              "\t<tr><th scope=row>2</th><td>2</td><td>1985-04-25</td><td>1989-03-15</td><td>1990-10-22</td><td>52</td><td>1</td><td>1</td><td>20</td><td>1</td><td>1</td><td> 78</td><td> 14</td><td>1420</td><td>1</td><td>2006</td><td>0</td></tr>\n",
              "\t<tr><th scope=row>3</th><td>3</td><td>1984-10-11</td><td>1988-04-12</td><td>1988-10-06</td><td>47</td><td>1</td><td>1</td><td>30</td><td>2</td><td>1</td><td>422</td><td> 89</td><td>1279</td><td>1</td><td>1456</td><td>1</td></tr>\n",
              "\t<tr><th scope=row>4</th><td>4</td><td>1984-06-29</td><td>1984-11-24</td><td>1984-11-24</td><td>40</td><td>1</td><td>1</td><td>24</td><td>1</td><td>3</td><td> 25</td><td> 11</td><td> 148</td><td>0</td><td> 148</td><td>0</td></tr>\n",
              "\t<tr><th scope=row>5</th><td>5</td><td>1984-07-03</td><td>1989-08-09</td><td>1989-08-09</td><td>64</td><td>2</td><td>2</td><td>19</td><td>2</td><td>1</td><td> 19</td><td>  9</td><td>1863</td><td>0</td><td>1863</td><td>0</td></tr>\n",
              "\t<tr><th scope=row>6</th><td>6</td><td>1984-07-24</td><td>1989-11-08</td><td>1989-11-08</td><td>49</td><td>2</td><td>2</td><td>56</td><td>1</td><td>3</td><td>356</td><td> 64</td><td>1933</td><td>0</td><td>1933</td><td>0</td></tr>\n",
              "</tbody>\n",
              "</table>\n"
            ]
          },
          "metadata": {
            "tags": []
          }
        },
        {
          "output_type": "display_data",
          "data": {
            "text/plain": [
              "[1] 686  16"
            ],
            "text/latex": "\\begin{enumerate*}\n\\item 686\n\\item 16\n\\end{enumerate*}\n",
            "text/markdown": "1. 686\n2. 16\n\n\n",
            "text/html": [
              "<style>\n",
              ".list-inline {list-style: none; margin:0; padding: 0}\n",
              ".list-inline>li {display: inline-block}\n",
              ".list-inline>li:not(:last-child)::after {content: \"\\00b7\"; padding: 0 .5ex}\n",
              "</style>\n",
              "<ol class=list-inline><li>686</li><li>16</li></ol>\n"
            ]
          },
          "metadata": {
            "tags": []
          }
        },
        {
          "output_type": "stream",
          "text": [
            "'data.frame':\t686 obs. of  16 variables:\n",
            " $ id        : int  1 2 3 4 5 6 7 8 9 10 ...\n",
            " $ diagdate  : Date, format: \"1984-08-17\" \"1985-04-25\" ...\n",
            " $ recdate   : Date, format: \"1988-04-15\" \"1989-03-15\" ...\n",
            " $ deathdate : Date, format: \"1990-11-16\" \"1990-10-22\" ...\n",
            " $ age       : num  38 52 47 40 64 49 53 61 43 74 ...\n",
            " $ menopause : int  1 1 1 1 2 2 2 2 1 2 ...\n",
            " $ hormone   : int  1 1 1 1 2 2 1 2 1 2 ...\n",
            " $ size      : num  18 20 30 24 19 56 52 22 30 20 ...\n",
            " $ grade     : Factor w/ 3 levels \"1\",\"2\",\"3\": 3 1 2 1 2 1 2 2 2 2 ...\n",
            " $ nodes     : int  5 1 1 3 1 3 9 2 1 1 ...\n",
            " $ prog_recp : num  141 78 422 25 19 356 6 6 22 462 ...\n",
            " $ estrg_recp: num  105 14 89 11 9 64 29 173 0 240 ...\n",
            " $ rectime   : num  1337 1420 1279 148 1863 ...\n",
            " $ censrec   : int  1 1 1 0 0 0 1 1 0 0 ...\n",
            " $ survtime  : num  2282 2006 1456 148 1863 ...\n",
            " $ censdead  : int  0 0 1 0 0 0 1 0 0 0 ...\n"
          ],
          "name": "stdout"
        },
        {
          "output_type": "display_data",
          "data": {
            "text/plain": [
              "\n",
              "  0   1 \n",
              "515 171 "
            ]
          },
          "metadata": {
            "tags": []
          }
        },
        {
          "output_type": "display_data",
          "data": {
            "text/plain": [
              "Call:\n",
              "coxph(formula = Surv(survtime, censdead) ~ grade, data = gbcs)\n",
              "\n",
              "  n= 686, number of events= 171 \n",
              "\n",
              "         coef exp(coef) se(coef)     z Pr(>|z|)    \n",
              "grade2 1.2426    3.4647   0.4196 2.962  0.00306 ** \n",
              "grade3 1.8622    6.4381   0.4292 4.339 1.43e-05 ***\n",
              "---\n",
              "Signif. codes:  0 ‘***’ 0.001 ‘**’ 0.01 ‘*’ 0.05 ‘.’ 0.1 ‘ ’ 1\n",
              "\n",
              "       exp(coef) exp(-coef) lower .95 upper .95\n",
              "grade2     3.465     0.2886     1.522     7.885\n",
              "grade3     6.438     0.1553     2.776    14.930\n",
              "\n",
              "Concordance= 0.613  (se = 0.019 )\n",
              "Likelihood ratio test= 31.96  on 2 df,   p=1e-07\n",
              "Wald test            = 26.67  on 2 df,   p=2e-06\n",
              "Score (logrank) test = 30.15  on 2 df,   p=3e-07\n"
            ]
          },
          "metadata": {
            "tags": []
          }
        },
        {
          "output_type": "display_data",
          "data": {
            "text/plain": [
              "  age menopause hormone size grade nodes prog_recp estrg_recp survtime censdead\n",
              "1 38  1         1       18   3     5     141       105        2282     0       \n",
              "2 52  1         1       20   1     1      78        14        2006     0       \n",
              "3 47  1         1       30   2     1     422        89        1456     1       \n",
              "4 40  1         1       24   1     3      25        11         148     0       \n",
              "5 64  2         2       19   2     1      19         9        1863     0       \n",
              "6 49  2         2       56   1     3     356        64        1933     0       "
            ],
            "text/latex": "A data.frame: 6 × 10\n\\begin{tabular}{r|llllllllll}\n  & age & menopause & hormone & size & grade & nodes & prog\\_recp & estrg\\_recp & survtime & censdead\\\\\n  & <dbl> & <int> & <int> & <dbl> & <fct> & <int> & <dbl> & <dbl> & <dbl> & <int>\\\\\n\\hline\n\t1 & 38 & 1 & 1 & 18 & 3 & 5 & 141 & 105 & 2282 & 0\\\\\n\t2 & 52 & 1 & 1 & 20 & 1 & 1 &  78 &  14 & 2006 & 0\\\\\n\t3 & 47 & 1 & 1 & 30 & 2 & 1 & 422 &  89 & 1456 & 1\\\\\n\t4 & 40 & 1 & 1 & 24 & 1 & 3 &  25 &  11 &  148 & 0\\\\\n\t5 & 64 & 2 & 2 & 19 & 2 & 1 &  19 &   9 & 1863 & 0\\\\\n\t6 & 49 & 2 & 2 & 56 & 1 & 3 & 356 &  64 & 1933 & 0\\\\\n\\end{tabular}\n",
            "text/markdown": "\nA data.frame: 6 × 10\n\n| <!--/--> | age &lt;dbl&gt; | menopause &lt;int&gt; | hormone &lt;int&gt; | size &lt;dbl&gt; | grade &lt;fct&gt; | nodes &lt;int&gt; | prog_recp &lt;dbl&gt; | estrg_recp &lt;dbl&gt; | survtime &lt;dbl&gt; | censdead &lt;int&gt; |\n|---|---|---|---|---|---|---|---|---|---|---|\n| 1 | 38 | 1 | 1 | 18 | 3 | 5 | 141 | 105 | 2282 | 0 |\n| 2 | 52 | 1 | 1 | 20 | 1 | 1 |  78 |  14 | 2006 | 0 |\n| 3 | 47 | 1 | 1 | 30 | 2 | 1 | 422 |  89 | 1456 | 1 |\n| 4 | 40 | 1 | 1 | 24 | 1 | 3 |  25 |  11 |  148 | 0 |\n| 5 | 64 | 2 | 2 | 19 | 2 | 1 |  19 |   9 | 1863 | 0 |\n| 6 | 49 | 2 | 2 | 56 | 1 | 3 | 356 |  64 | 1933 | 0 |\n\n",
            "text/html": [
              "<table class=\"dataframe\">\n",
              "<caption>A data.frame: 6 × 10</caption>\n",
              "<thead>\n",
              "\t<tr><th></th><th scope=col>age</th><th scope=col>menopause</th><th scope=col>hormone</th><th scope=col>size</th><th scope=col>grade</th><th scope=col>nodes</th><th scope=col>prog_recp</th><th scope=col>estrg_recp</th><th scope=col>survtime</th><th scope=col>censdead</th></tr>\n",
              "\t<tr><th></th><th scope=col>&lt;dbl&gt;</th><th scope=col>&lt;int&gt;</th><th scope=col>&lt;int&gt;</th><th scope=col>&lt;dbl&gt;</th><th scope=col>&lt;fct&gt;</th><th scope=col>&lt;int&gt;</th><th scope=col>&lt;dbl&gt;</th><th scope=col>&lt;dbl&gt;</th><th scope=col>&lt;dbl&gt;</th><th scope=col>&lt;int&gt;</th></tr>\n",
              "</thead>\n",
              "<tbody>\n",
              "\t<tr><th scope=row>1</th><td>38</td><td>1</td><td>1</td><td>18</td><td>3</td><td>5</td><td>141</td><td>105</td><td>2282</td><td>0</td></tr>\n",
              "\t<tr><th scope=row>2</th><td>52</td><td>1</td><td>1</td><td>20</td><td>1</td><td>1</td><td> 78</td><td> 14</td><td>2006</td><td>0</td></tr>\n",
              "\t<tr><th scope=row>3</th><td>47</td><td>1</td><td>1</td><td>30</td><td>2</td><td>1</td><td>422</td><td> 89</td><td>1456</td><td>1</td></tr>\n",
              "\t<tr><th scope=row>4</th><td>40</td><td>1</td><td>1</td><td>24</td><td>1</td><td>3</td><td> 25</td><td> 11</td><td> 148</td><td>0</td></tr>\n",
              "\t<tr><th scope=row>5</th><td>64</td><td>2</td><td>2</td><td>19</td><td>2</td><td>1</td><td> 19</td><td>  9</td><td>1863</td><td>0</td></tr>\n",
              "\t<tr><th scope=row>6</th><td>49</td><td>2</td><td>2</td><td>56</td><td>1</td><td>3</td><td>356</td><td> 64</td><td>1933</td><td>0</td></tr>\n",
              "</tbody>\n",
              "</table>\n"
            ]
          },
          "metadata": {
            "tags": []
          }
        },
        {
          "output_type": "stream",
          "text": [
            "'data.frame':\t686 obs. of  10 variables:\n",
            " $ age       : num  38 52 47 40 64 49 53 61 43 74 ...\n",
            " $ menopause : int  1 1 1 1 2 2 2 2 1 2 ...\n",
            " $ hormone   : int  1 1 1 1 2 2 1 2 1 2 ...\n",
            " $ size      : num  18 20 30 24 19 56 52 22 30 20 ...\n",
            " $ grade     : Factor w/ 3 levels \"1\",\"2\",\"3\": 3 1 2 1 2 1 2 2 2 2 ...\n",
            " $ nodes     : int  5 1 1 3 1 3 9 2 1 1 ...\n",
            " $ prog_recp : num  141 78 422 25 19 356 6 6 22 462 ...\n",
            " $ estrg_recp: num  105 14 89 11 9 64 29 173 0 240 ...\n",
            " $ survtime  : num  2282 2006 1456 148 1863 ...\n",
            " $ censdead  : int  0 0 1 0 0 0 1 0 0 0 ...\n"
          ],
          "name": "stdout"
        },
        {
          "output_type": "display_data",
          "data": {
            "text/plain": [
              "  age        menopause hormone size        grade nodes        prog_recp \n",
              "1 -1.4872904 0         0       -0.79247861 3     -0.001863595  0.1532355\n",
              "2 -0.1039922 0         0       -0.65258146 1     -0.732392712 -0.1581346\n",
              "3 -0.5980273 0         0        0.04690429 2     -0.732392712  1.5420451\n",
              "4 -1.2896764 0         0       -0.37278716 1     -0.367128153 -0.4200809\n",
              "5  1.0816919 1         1       -0.72253003 2     -0.732392712 -0.4497352\n",
              "6 -0.4004133 1         1        1.86556724 1     -0.367128153  1.2158478\n",
              "  estrg_recp  survtime censdead\n",
              "1  0.05714389 2282     0       \n",
              "2 -0.53730113 2006     0       \n",
              "3 -0.04737391 1456     1       \n",
              "4 -0.55689822  148     0       \n",
              "5 -0.56996295 1863     0       \n",
              "6 -0.21068299 1933     0       "
            ],
            "text/latex": "A data.frame: 6 × 10\n\\begin{tabular}{r|llllllllll}\n  & age & menopause & hormone & size & grade & nodes & prog\\_recp & estrg\\_recp & survtime & censdead\\\\\n  & <dbl{[},1{]}> & <dbl> & <dbl> & <dbl{[},1{]}> & <fct> & <dbl{[},1{]}> & <dbl{[},1{]}> & <dbl{[},1{]}> & <dbl> & <int>\\\\\n\\hline\n\t1 & -1.4872904 & 0 & 0 & -0.79247861 & 3 & -0.001863595 &  0.1532355 &  0.05714389 & 2282 & 0\\\\\n\t2 & -0.1039922 & 0 & 0 & -0.65258146 & 1 & -0.732392712 & -0.1581346 & -0.53730113 & 2006 & 0\\\\\n\t3 & -0.5980273 & 0 & 0 &  0.04690429 & 2 & -0.732392712 &  1.5420451 & -0.04737391 & 1456 & 1\\\\\n\t4 & -1.2896764 & 0 & 0 & -0.37278716 & 1 & -0.367128153 & -0.4200809 & -0.55689822 &  148 & 0\\\\\n\t5 &  1.0816919 & 1 & 1 & -0.72253003 & 2 & -0.732392712 & -0.4497352 & -0.56996295 & 1863 & 0\\\\\n\t6 & -0.4004133 & 1 & 1 &  1.86556724 & 1 & -0.367128153 &  1.2158478 & -0.21068299 & 1933 & 0\\\\\n\\end{tabular}\n",
            "text/markdown": "\nA data.frame: 6 × 10\n\n| <!--/--> | age &lt;dbl[,1]&gt; | menopause &lt;dbl&gt; | hormone &lt;dbl&gt; | size &lt;dbl[,1]&gt; | grade &lt;fct&gt; | nodes &lt;dbl[,1]&gt; | prog_recp &lt;dbl[,1]&gt; | estrg_recp &lt;dbl[,1]&gt; | survtime &lt;dbl&gt; | censdead &lt;int&gt; |\n|---|---|---|---|---|---|---|---|---|---|---|\n| 1 | -1.4872904 | 0 | 0 | -0.79247861 | 3 | -0.001863595 |  0.1532355 |  0.05714389 | 2282 | 0 |\n| 2 | -0.1039922 | 0 | 0 | -0.65258146 | 1 | -0.732392712 | -0.1581346 | -0.53730113 | 2006 | 0 |\n| 3 | -0.5980273 | 0 | 0 |  0.04690429 | 2 | -0.732392712 |  1.5420451 | -0.04737391 | 1456 | 1 |\n| 4 | -1.2896764 | 0 | 0 | -0.37278716 | 1 | -0.367128153 | -0.4200809 | -0.55689822 |  148 | 0 |\n| 5 |  1.0816919 | 1 | 1 | -0.72253003 | 2 | -0.732392712 | -0.4497352 | -0.56996295 | 1863 | 0 |\n| 6 | -0.4004133 | 1 | 1 |  1.86556724 | 1 | -0.367128153 |  1.2158478 | -0.21068299 | 1933 | 0 |\n\n",
            "text/html": [
              "<table class=\"dataframe\">\n",
              "<caption>A data.frame: 6 × 10</caption>\n",
              "<thead>\n",
              "\t<tr><th></th><th scope=col>age</th><th scope=col>menopause</th><th scope=col>hormone</th><th scope=col>size</th><th scope=col>grade</th><th scope=col>nodes</th><th scope=col>prog_recp</th><th scope=col>estrg_recp</th><th scope=col>survtime</th><th scope=col>censdead</th></tr>\n",
              "\t<tr><th></th><th scope=col>&lt;dbl[,1]&gt;</th><th scope=col>&lt;dbl&gt;</th><th scope=col>&lt;dbl&gt;</th><th scope=col>&lt;dbl[,1]&gt;</th><th scope=col>&lt;fct&gt;</th><th scope=col>&lt;dbl[,1]&gt;</th><th scope=col>&lt;dbl[,1]&gt;</th><th scope=col>&lt;dbl[,1]&gt;</th><th scope=col>&lt;dbl&gt;</th><th scope=col>&lt;int&gt;</th></tr>\n",
              "</thead>\n",
              "<tbody>\n",
              "\t<tr><th scope=row>1</th><td>-1.4872904</td><td>0</td><td>0</td><td>-0.79247861</td><td>3</td><td>-0.001863595</td><td> 0.1532355</td><td> 0.05714389</td><td>2282</td><td>0</td></tr>\n",
              "\t<tr><th scope=row>2</th><td>-0.1039922</td><td>0</td><td>0</td><td>-0.65258146</td><td>1</td><td>-0.732392712</td><td>-0.1581346</td><td>-0.53730113</td><td>2006</td><td>0</td></tr>\n",
              "\t<tr><th scope=row>3</th><td>-0.5980273</td><td>0</td><td>0</td><td> 0.04690429</td><td>2</td><td>-0.732392712</td><td> 1.5420451</td><td>-0.04737391</td><td>1456</td><td>1</td></tr>\n",
              "\t<tr><th scope=row>4</th><td>-1.2896764</td><td>0</td><td>0</td><td>-0.37278716</td><td>1</td><td>-0.367128153</td><td>-0.4200809</td><td>-0.55689822</td><td> 148</td><td>0</td></tr>\n",
              "\t<tr><th scope=row>5</th><td> 1.0816919</td><td>1</td><td>1</td><td>-0.72253003</td><td>2</td><td>-0.732392712</td><td>-0.4497352</td><td>-0.56996295</td><td>1863</td><td>0</td></tr>\n",
              "\t<tr><th scope=row>6</th><td>-0.4004133</td><td>1</td><td>1</td><td> 1.86556724</td><td>1</td><td>-0.367128153</td><td> 1.2158478</td><td>-0.21068299</td><td>1933</td><td>0</td></tr>\n",
              "</tbody>\n",
              "</table>\n"
            ]
          },
          "metadata": {
            "tags": []
          }
        },
        {
          "output_type": "display_data",
          "data": {
            "text/plain": [
              "  age        menopause hormone size        nodes        prog_recp  estrg_recp \n",
              "1 -1.4872904 0         0       -0.79247861 -0.001863595  0.1532355  0.05714389\n",
              "2 -0.1039922 0         0       -0.65258146 -0.732392712 -0.1581346 -0.53730113\n",
              "3 -0.5980273 0         0        0.04690429 -0.732392712  1.5420451 -0.04737391\n",
              "4 -1.2896764 0         0       -0.37278716 -0.367128153 -0.4200809 -0.55689822\n",
              "5  1.0816919 1         1       -0.72253003 -0.732392712 -0.4497352 -0.56996295\n",
              "6 -0.4004133 1         1        1.86556724 -0.367128153  1.2158478 -0.21068299\n",
              "  survtime censdead grade1 grade2 grade3\n",
              "1 2282     0        0      0      1     \n",
              "2 2006     0        1      0      0     \n",
              "3 1456     1        0      1      0     \n",
              "4  148     0        1      0      0     \n",
              "5 1863     0        0      1      0     \n",
              "6 1933     0        1      0      0     "
            ],
            "text/latex": "A data.frame: 6 × 12\n\\begin{tabular}{r|llllllllllll}\n  & age & menopause & hormone & size & nodes & prog\\_recp & estrg\\_recp & survtime & censdead & grade1 & grade2 & grade3\\\\\n  & <dbl{[},1{]}> & <dbl> & <dbl> & <dbl{[},1{]}> & <dbl{[},1{]}> & <dbl{[},1{]}> & <dbl{[},1{]}> & <dbl> & <int> & <dbl> & <dbl> & <dbl>\\\\\n\\hline\n\t1 & -1.4872904 & 0 & 0 & -0.79247861 & -0.001863595 &  0.1532355 &  0.05714389 & 2282 & 0 & 0 & 0 & 1\\\\\n\t2 & -0.1039922 & 0 & 0 & -0.65258146 & -0.732392712 & -0.1581346 & -0.53730113 & 2006 & 0 & 1 & 0 & 0\\\\\n\t3 & -0.5980273 & 0 & 0 &  0.04690429 & -0.732392712 &  1.5420451 & -0.04737391 & 1456 & 1 & 0 & 1 & 0\\\\\n\t4 & -1.2896764 & 0 & 0 & -0.37278716 & -0.367128153 & -0.4200809 & -0.55689822 &  148 & 0 & 1 & 0 & 0\\\\\n\t5 &  1.0816919 & 1 & 1 & -0.72253003 & -0.732392712 & -0.4497352 & -0.56996295 & 1863 & 0 & 0 & 1 & 0\\\\\n\t6 & -0.4004133 & 1 & 1 &  1.86556724 & -0.367128153 &  1.2158478 & -0.21068299 & 1933 & 0 & 1 & 0 & 0\\\\\n\\end{tabular}\n",
            "text/markdown": "\nA data.frame: 6 × 12\n\n| <!--/--> | age &lt;dbl[,1]&gt; | menopause &lt;dbl&gt; | hormone &lt;dbl&gt; | size &lt;dbl[,1]&gt; | nodes &lt;dbl[,1]&gt; | prog_recp &lt;dbl[,1]&gt; | estrg_recp &lt;dbl[,1]&gt; | survtime &lt;dbl&gt; | censdead &lt;int&gt; | grade1 &lt;dbl&gt; | grade2 &lt;dbl&gt; | grade3 &lt;dbl&gt; |\n|---|---|---|---|---|---|---|---|---|---|---|---|---|\n| 1 | -1.4872904 | 0 | 0 | -0.79247861 | -0.001863595 |  0.1532355 |  0.05714389 | 2282 | 0 | 0 | 0 | 1 |\n| 2 | -0.1039922 | 0 | 0 | -0.65258146 | -0.732392712 | -0.1581346 | -0.53730113 | 2006 | 0 | 1 | 0 | 0 |\n| 3 | -0.5980273 | 0 | 0 |  0.04690429 | -0.732392712 |  1.5420451 | -0.04737391 | 1456 | 1 | 0 | 1 | 0 |\n| 4 | -1.2896764 | 0 | 0 | -0.37278716 | -0.367128153 | -0.4200809 | -0.55689822 |  148 | 0 | 1 | 0 | 0 |\n| 5 |  1.0816919 | 1 | 1 | -0.72253003 | -0.732392712 | -0.4497352 | -0.56996295 | 1863 | 0 | 0 | 1 | 0 |\n| 6 | -0.4004133 | 1 | 1 |  1.86556724 | -0.367128153 |  1.2158478 | -0.21068299 | 1933 | 0 | 1 | 0 | 0 |\n\n",
            "text/html": [
              "<table class=\"dataframe\">\n",
              "<caption>A data.frame: 6 × 12</caption>\n",
              "<thead>\n",
              "\t<tr><th></th><th scope=col>age</th><th scope=col>menopause</th><th scope=col>hormone</th><th scope=col>size</th><th scope=col>nodes</th><th scope=col>prog_recp</th><th scope=col>estrg_recp</th><th scope=col>survtime</th><th scope=col>censdead</th><th scope=col>grade1</th><th scope=col>grade2</th><th scope=col>grade3</th></tr>\n",
              "\t<tr><th></th><th scope=col>&lt;dbl[,1]&gt;</th><th scope=col>&lt;dbl&gt;</th><th scope=col>&lt;dbl&gt;</th><th scope=col>&lt;dbl[,1]&gt;</th><th scope=col>&lt;dbl[,1]&gt;</th><th scope=col>&lt;dbl[,1]&gt;</th><th scope=col>&lt;dbl[,1]&gt;</th><th scope=col>&lt;dbl&gt;</th><th scope=col>&lt;int&gt;</th><th scope=col>&lt;dbl&gt;</th><th scope=col>&lt;dbl&gt;</th><th scope=col>&lt;dbl&gt;</th></tr>\n",
              "</thead>\n",
              "<tbody>\n",
              "\t<tr><th scope=row>1</th><td>-1.4872904</td><td>0</td><td>0</td><td>-0.79247861</td><td>-0.001863595</td><td> 0.1532355</td><td> 0.05714389</td><td>2282</td><td>0</td><td>0</td><td>0</td><td>1</td></tr>\n",
              "\t<tr><th scope=row>2</th><td>-0.1039922</td><td>0</td><td>0</td><td>-0.65258146</td><td>-0.732392712</td><td>-0.1581346</td><td>-0.53730113</td><td>2006</td><td>0</td><td>1</td><td>0</td><td>0</td></tr>\n",
              "\t<tr><th scope=row>3</th><td>-0.5980273</td><td>0</td><td>0</td><td> 0.04690429</td><td>-0.732392712</td><td> 1.5420451</td><td>-0.04737391</td><td>1456</td><td>1</td><td>0</td><td>1</td><td>0</td></tr>\n",
              "\t<tr><th scope=row>4</th><td>-1.2896764</td><td>0</td><td>0</td><td>-0.37278716</td><td>-0.367128153</td><td>-0.4200809</td><td>-0.55689822</td><td> 148</td><td>0</td><td>1</td><td>0</td><td>0</td></tr>\n",
              "\t<tr><th scope=row>5</th><td> 1.0816919</td><td>1</td><td>1</td><td>-0.72253003</td><td>-0.732392712</td><td>-0.4497352</td><td>-0.56996295</td><td>1863</td><td>0</td><td>0</td><td>1</td><td>0</td></tr>\n",
              "\t<tr><th scope=row>6</th><td>-0.4004133</td><td>1</td><td>1</td><td> 1.86556724</td><td>-0.367128153</td><td> 1.2158478</td><td>-0.21068299</td><td>1933</td><td>0</td><td>1</td><td>0</td><td>0</td></tr>\n",
              "</tbody>\n",
              "</table>\n"
            ]
          },
          "metadata": {
            "tags": []
          }
        },
        {
          "output_type": "stream",
          "text": [
            " int [1:548] 415 463 179 526 195 118 299 229 244 14 ...\n"
          ],
          "name": "stdout"
        },
        {
          "output_type": "display_data",
          "data": {
            "text/plain": [
              "[1] 548  12"
            ],
            "text/latex": "\\begin{enumerate*}\n\\item 548\n\\item 12\n\\end{enumerate*}\n",
            "text/markdown": "1. 548\n2. 12\n\n\n",
            "text/html": [
              "<style>\n",
              ".list-inline {list-style: none; margin:0; padding: 0}\n",
              ".list-inline>li {display: inline-block}\n",
              ".list-inline>li:not(:last-child)::after {content: \"\\00b7\"; padding: 0 .5ex}\n",
              "</style>\n",
              "<ol class=list-inline><li>548</li><li>12</li></ol>\n"
            ]
          },
          "metadata": {
            "tags": []
          }
        },
        {
          "output_type": "display_data",
          "data": {
            "text/plain": [
              "    age          menopause hormone size       nodes      prog_recp   estrg_recp\n",
              "415 -1.092062357 0         0        0.7463900  0.9112978  0.09886927 -0.2956037\n",
              "463  1.378112982 1         1       -0.1629414 -0.1844959  4.98194356  4.2901150\n",
              "179  0.785270901 1         0        1.4458758 -0.1844959 -0.49421667 -0.5634306\n",
              "526 -0.894448330 0         0       -0.4427357 -0.5497604  0.93413198 -0.4001215\n",
              "195 -0.993255343 0         0       -0.7924786 -0.7323927 -0.49421667 -0.3609273\n",
              "118 -0.005185208 0         0       -0.6525815 -0.5497604 -0.10376843 -0.3935891\n",
              "    survtime censdead grade1 grade2 grade3\n",
              "415 1278     0        0      1      0     \n",
              "463 1222     0        0      1      0     \n",
              "179 2456     0        0      1      0     \n",
              "526 1638     0        0      1      0     \n",
              "195   71     0        0      1      0     \n",
              "118  909     1        0      1      0     "
            ],
            "text/latex": "A data.frame: 6 × 12\n\\begin{tabular}{r|llllllllllll}\n  & age & menopause & hormone & size & nodes & prog\\_recp & estrg\\_recp & survtime & censdead & grade1 & grade2 & grade3\\\\\n  & <dbl{[},1{]}> & <dbl> & <dbl> & <dbl{[},1{]}> & <dbl{[},1{]}> & <dbl{[},1{]}> & <dbl{[},1{]}> & <dbl> & <int> & <dbl> & <dbl> & <dbl>\\\\\n\\hline\n\t415 & -1.092062357 & 0 & 0 &  0.7463900 &  0.9112978 &  0.09886927 & -0.2956037 & 1278 & 0 & 0 & 1 & 0\\\\\n\t463 &  1.378112982 & 1 & 1 & -0.1629414 & -0.1844959 &  4.98194356 &  4.2901150 & 1222 & 0 & 0 & 1 & 0\\\\\n\t179 &  0.785270901 & 1 & 0 &  1.4458758 & -0.1844959 & -0.49421667 & -0.5634306 & 2456 & 0 & 0 & 1 & 0\\\\\n\t526 & -0.894448330 & 0 & 0 & -0.4427357 & -0.5497604 &  0.93413198 & -0.4001215 & 1638 & 0 & 0 & 1 & 0\\\\\n\t195 & -0.993255343 & 0 & 0 & -0.7924786 & -0.7323927 & -0.49421667 & -0.3609273 &   71 & 0 & 0 & 1 & 0\\\\\n\t118 & -0.005185208 & 0 & 0 & -0.6525815 & -0.5497604 & -0.10376843 & -0.3935891 &  909 & 1 & 0 & 1 & 0\\\\\n\\end{tabular}\n",
            "text/markdown": "\nA data.frame: 6 × 12\n\n| <!--/--> | age &lt;dbl[,1]&gt; | menopause &lt;dbl&gt; | hormone &lt;dbl&gt; | size &lt;dbl[,1]&gt; | nodes &lt;dbl[,1]&gt; | prog_recp &lt;dbl[,1]&gt; | estrg_recp &lt;dbl[,1]&gt; | survtime &lt;dbl&gt; | censdead &lt;int&gt; | grade1 &lt;dbl&gt; | grade2 &lt;dbl&gt; | grade3 &lt;dbl&gt; |\n|---|---|---|---|---|---|---|---|---|---|---|---|---|\n| 415 | -1.092062357 | 0 | 0 |  0.7463900 |  0.9112978 |  0.09886927 | -0.2956037 | 1278 | 0 | 0 | 1 | 0 |\n| 463 |  1.378112982 | 1 | 1 | -0.1629414 | -0.1844959 |  4.98194356 |  4.2901150 | 1222 | 0 | 0 | 1 | 0 |\n| 179 |  0.785270901 | 1 | 0 |  1.4458758 | -0.1844959 | -0.49421667 | -0.5634306 | 2456 | 0 | 0 | 1 | 0 |\n| 526 | -0.894448330 | 0 | 0 | -0.4427357 | -0.5497604 |  0.93413198 | -0.4001215 | 1638 | 0 | 0 | 1 | 0 |\n| 195 | -0.993255343 | 0 | 0 | -0.7924786 | -0.7323927 | -0.49421667 | -0.3609273 |   71 | 0 | 0 | 1 | 0 |\n| 118 | -0.005185208 | 0 | 0 | -0.6525815 | -0.5497604 | -0.10376843 | -0.3935891 |  909 | 1 | 0 | 1 | 0 |\n\n",
            "text/html": [
              "<table class=\"dataframe\">\n",
              "<caption>A data.frame: 6 × 12</caption>\n",
              "<thead>\n",
              "\t<tr><th></th><th scope=col>age</th><th scope=col>menopause</th><th scope=col>hormone</th><th scope=col>size</th><th scope=col>nodes</th><th scope=col>prog_recp</th><th scope=col>estrg_recp</th><th scope=col>survtime</th><th scope=col>censdead</th><th scope=col>grade1</th><th scope=col>grade2</th><th scope=col>grade3</th></tr>\n",
              "\t<tr><th></th><th scope=col>&lt;dbl[,1]&gt;</th><th scope=col>&lt;dbl&gt;</th><th scope=col>&lt;dbl&gt;</th><th scope=col>&lt;dbl[,1]&gt;</th><th scope=col>&lt;dbl[,1]&gt;</th><th scope=col>&lt;dbl[,1]&gt;</th><th scope=col>&lt;dbl[,1]&gt;</th><th scope=col>&lt;dbl&gt;</th><th scope=col>&lt;int&gt;</th><th scope=col>&lt;dbl&gt;</th><th scope=col>&lt;dbl&gt;</th><th scope=col>&lt;dbl&gt;</th></tr>\n",
              "</thead>\n",
              "<tbody>\n",
              "\t<tr><th scope=row>415</th><td>-1.092062357</td><td>0</td><td>0</td><td> 0.7463900</td><td> 0.9112978</td><td> 0.09886927</td><td>-0.2956037</td><td>1278</td><td>0</td><td>0</td><td>1</td><td>0</td></tr>\n",
              "\t<tr><th scope=row>463</th><td> 1.378112982</td><td>1</td><td>1</td><td>-0.1629414</td><td>-0.1844959</td><td> 4.98194356</td><td> 4.2901150</td><td>1222</td><td>0</td><td>0</td><td>1</td><td>0</td></tr>\n",
              "\t<tr><th scope=row>179</th><td> 0.785270901</td><td>1</td><td>0</td><td> 1.4458758</td><td>-0.1844959</td><td>-0.49421667</td><td>-0.5634306</td><td>2456</td><td>0</td><td>0</td><td>1</td><td>0</td></tr>\n",
              "\t<tr><th scope=row>526</th><td>-0.894448330</td><td>0</td><td>0</td><td>-0.4427357</td><td>-0.5497604</td><td> 0.93413198</td><td>-0.4001215</td><td>1638</td><td>0</td><td>0</td><td>1</td><td>0</td></tr>\n",
              "\t<tr><th scope=row>195</th><td>-0.993255343</td><td>0</td><td>0</td><td>-0.7924786</td><td>-0.7323927</td><td>-0.49421667</td><td>-0.3609273</td><td>  71</td><td>0</td><td>0</td><td>1</td><td>0</td></tr>\n",
              "\t<tr><th scope=row>118</th><td>-0.005185208</td><td>0</td><td>0</td><td>-0.6525815</td><td>-0.5497604</td><td>-0.10376843</td><td>-0.3935891</td><td> 909</td><td>1</td><td>0</td><td>1</td><td>0</td></tr>\n",
              "</tbody>\n",
              "</table>\n"
            ]
          },
          "metadata": {
            "tags": []
          }
        },
        {
          "output_type": "display_data",
          "data": {
            "text/plain": [
              "\n",
              "  0   1 \n",
              "416 132 "
            ]
          },
          "metadata": {
            "tags": []
          }
        },
        {
          "output_type": "display_data",
          "data": {
            "text/plain": [
              "[1] 138  12"
            ],
            "text/latex": "\\begin{enumerate*}\n\\item 138\n\\item 12\n\\end{enumerate*}\n",
            "text/markdown": "1. 138\n2. 12\n\n\n",
            "text/html": [
              "<style>\n",
              ".list-inline {list-style: none; margin:0; padding: 0}\n",
              ".list-inline>li {display: inline-block}\n",
              ".list-inline>li:not(:last-child)::after {content: \"\\00b7\"; padding: 0 .5ex}\n",
              "</style>\n",
              "<ol class=list-inline><li>138</li><li>12</li></ol>\n"
            ]
          },
          "metadata": {
            "tags": []
          }
        },
        {
          "output_type": "display_data",
          "data": {
            "text/plain": [
              "   age        menopause hormone size        nodes        prog_recp   \n",
              "1  -1.4872904 0         0       -0.79247861 -0.001863595  0.153235483\n",
              "3  -0.5980273 0         0        0.04690429 -0.732392712  1.542045075\n",
              "9  -0.9932553 0         0        0.04690429 -0.732392712 -0.434908080\n",
              "18  0.2912358 1         1        0.74639004 -0.367128153 -0.543640504\n",
              "22  0.2912358 0         1       -0.58263288 -0.367128153  0.004963997\n",
              "27  0.7852709 1         0       -0.65258146 -0.001863595 -0.420080932\n",
              "   estrg_recp  survtime censdead grade1 grade2 grade3\n",
              "1   0.05714389 2282     0        0      0      1     \n",
              "3  -0.04737391 1456     1        0      1      0     \n",
              "9  -0.62875421 2563     0        0      1      0     \n",
              "18 -0.60915712 2450     1        0      1      0     \n",
              "22 -0.49810695 1722     0        0      1      0     \n",
              "27 -0.13882699 1889     1        0      1      0     "
            ],
            "text/latex": "A data.frame: 6 × 12\n\\begin{tabular}{r|llllllllllll}\n  & age & menopause & hormone & size & nodes & prog\\_recp & estrg\\_recp & survtime & censdead & grade1 & grade2 & grade3\\\\\n  & <dbl{[},1{]}> & <dbl> & <dbl> & <dbl{[},1{]}> & <dbl{[},1{]}> & <dbl{[},1{]}> & <dbl{[},1{]}> & <dbl> & <int> & <dbl> & <dbl> & <dbl>\\\\\n\\hline\n\t1 & -1.4872904 & 0 & 0 & -0.79247861 & -0.001863595 &  0.153235483 &  0.05714389 & 2282 & 0 & 0 & 0 & 1\\\\\n\t3 & -0.5980273 & 0 & 0 &  0.04690429 & -0.732392712 &  1.542045075 & -0.04737391 & 1456 & 1 & 0 & 1 & 0\\\\\n\t9 & -0.9932553 & 0 & 0 &  0.04690429 & -0.732392712 & -0.434908080 & -0.62875421 & 2563 & 0 & 0 & 1 & 0\\\\\n\t18 &  0.2912358 & 1 & 1 &  0.74639004 & -0.367128153 & -0.543640504 & -0.60915712 & 2450 & 1 & 0 & 1 & 0\\\\\n\t22 &  0.2912358 & 0 & 1 & -0.58263288 & -0.367128153 &  0.004963997 & -0.49810695 & 1722 & 0 & 0 & 1 & 0\\\\\n\t27 &  0.7852709 & 1 & 0 & -0.65258146 & -0.001863595 & -0.420080932 & -0.13882699 & 1889 & 1 & 0 & 1 & 0\\\\\n\\end{tabular}\n",
            "text/markdown": "\nA data.frame: 6 × 12\n\n| <!--/--> | age &lt;dbl[,1]&gt; | menopause &lt;dbl&gt; | hormone &lt;dbl&gt; | size &lt;dbl[,1]&gt; | nodes &lt;dbl[,1]&gt; | prog_recp &lt;dbl[,1]&gt; | estrg_recp &lt;dbl[,1]&gt; | survtime &lt;dbl&gt; | censdead &lt;int&gt; | grade1 &lt;dbl&gt; | grade2 &lt;dbl&gt; | grade3 &lt;dbl&gt; |\n|---|---|---|---|---|---|---|---|---|---|---|---|---|\n| 1 | -1.4872904 | 0 | 0 | -0.79247861 | -0.001863595 |  0.153235483 |  0.05714389 | 2282 | 0 | 0 | 0 | 1 |\n| 3 | -0.5980273 | 0 | 0 |  0.04690429 | -0.732392712 |  1.542045075 | -0.04737391 | 1456 | 1 | 0 | 1 | 0 |\n| 9 | -0.9932553 | 0 | 0 |  0.04690429 | -0.732392712 | -0.434908080 | -0.62875421 | 2563 | 0 | 0 | 1 | 0 |\n| 18 |  0.2912358 | 1 | 1 |  0.74639004 | -0.367128153 | -0.543640504 | -0.60915712 | 2450 | 1 | 0 | 1 | 0 |\n| 22 |  0.2912358 | 0 | 1 | -0.58263288 | -0.367128153 |  0.004963997 | -0.49810695 | 1722 | 0 | 0 | 1 | 0 |\n| 27 |  0.7852709 | 1 | 0 | -0.65258146 | -0.001863595 | -0.420080932 | -0.13882699 | 1889 | 1 | 0 | 1 | 0 |\n\n",
            "text/html": [
              "<table class=\"dataframe\">\n",
              "<caption>A data.frame: 6 × 12</caption>\n",
              "<thead>\n",
              "\t<tr><th></th><th scope=col>age</th><th scope=col>menopause</th><th scope=col>hormone</th><th scope=col>size</th><th scope=col>nodes</th><th scope=col>prog_recp</th><th scope=col>estrg_recp</th><th scope=col>survtime</th><th scope=col>censdead</th><th scope=col>grade1</th><th scope=col>grade2</th><th scope=col>grade3</th></tr>\n",
              "\t<tr><th></th><th scope=col>&lt;dbl[,1]&gt;</th><th scope=col>&lt;dbl&gt;</th><th scope=col>&lt;dbl&gt;</th><th scope=col>&lt;dbl[,1]&gt;</th><th scope=col>&lt;dbl[,1]&gt;</th><th scope=col>&lt;dbl[,1]&gt;</th><th scope=col>&lt;dbl[,1]&gt;</th><th scope=col>&lt;dbl&gt;</th><th scope=col>&lt;int&gt;</th><th scope=col>&lt;dbl&gt;</th><th scope=col>&lt;dbl&gt;</th><th scope=col>&lt;dbl&gt;</th></tr>\n",
              "</thead>\n",
              "<tbody>\n",
              "\t<tr><th scope=row>1</th><td>-1.4872904</td><td>0</td><td>0</td><td>-0.79247861</td><td>-0.001863595</td><td> 0.153235483</td><td> 0.05714389</td><td>2282</td><td>0</td><td>0</td><td>0</td><td>1</td></tr>\n",
              "\t<tr><th scope=row>3</th><td>-0.5980273</td><td>0</td><td>0</td><td> 0.04690429</td><td>-0.732392712</td><td> 1.542045075</td><td>-0.04737391</td><td>1456</td><td>1</td><td>0</td><td>1</td><td>0</td></tr>\n",
              "\t<tr><th scope=row>9</th><td>-0.9932553</td><td>0</td><td>0</td><td> 0.04690429</td><td>-0.732392712</td><td>-0.434908080</td><td>-0.62875421</td><td>2563</td><td>0</td><td>0</td><td>1</td><td>0</td></tr>\n",
              "\t<tr><th scope=row>18</th><td> 0.2912358</td><td>1</td><td>1</td><td> 0.74639004</td><td>-0.367128153</td><td>-0.543640504</td><td>-0.60915712</td><td>2450</td><td>1</td><td>0</td><td>1</td><td>0</td></tr>\n",
              "\t<tr><th scope=row>22</th><td> 0.2912358</td><td>0</td><td>1</td><td>-0.58263288</td><td>-0.367128153</td><td> 0.004963997</td><td>-0.49810695</td><td>1722</td><td>0</td><td>0</td><td>1</td><td>0</td></tr>\n",
              "\t<tr><th scope=row>27</th><td> 0.7852709</td><td>1</td><td>0</td><td>-0.65258146</td><td>-0.001863595</td><td>-0.420080932</td><td>-0.13882699</td><td>1889</td><td>1</td><td>0</td><td>1</td><td>0</td></tr>\n",
              "</tbody>\n",
              "</table>\n"
            ]
          },
          "metadata": {
            "tags": []
          }
        },
        {
          "output_type": "display_data",
          "data": {
            "text/plain": [
              "\n",
              " 0  1 \n",
              "99 39 "
            ]
          },
          "metadata": {
            "tags": []
          }
        }
      ]
    },
    {
      "cell_type": "code",
      "metadata": {
        "colab": {
          "base_uri": "https://localhost:8080/",
          "height": 441
        },
        "id": "9wnR6G2UvA3h",
        "outputId": "fd9cdb04-9883-49a9-a4f6-ce5a183a8075"
      },
      "source": [
        "task_gbcs = TaskSurv$new(id = \"train_gbcs\", backend = train_gbcs, time = \"survtime\", event = \"censdead\")\n",
        "test_gbcs = TaskSurv$new(id = \"test_gbcs\", backend = test_gbcs, time = \"survtime\", event = \"censdead\")\n",
        "\n",
        "NDml <- data.frame(age = 0, menopause = 1, hormone = 1,\n",
        "                   size = 0, grade1 = c(1,0,0), grade2=c(0,1,0), grade3=c(0,0,1), \n",
        "                   nodes = 0, prog_recp=0, estrg_recp=0, survtime=1, censdead=1)\n",
        "ND_gbcs = TaskSurv$new(id = \"NDml\", backend = NDml, time = \"survtime\", event = \"censdead\")\n",
        "\n",
        "\n",
        "task_gbcs$nrow \n",
        "task_gbcs$feature_types\n",
        "\n",
        "test_gbcs$nrow"
      ],
      "execution_count": 88,
      "outputs": [
        {
          "output_type": "display_data",
          "data": {
            "text/plain": [
              "[1] 548"
            ],
            "text/latex": "548",
            "text/markdown": "548",
            "text/html": [
              "548"
            ]
          },
          "metadata": {
            "tags": []
          }
        },
        {
          "output_type": "display_data",
          "data": {
            "text/plain": [
              "   id         type   \n",
              "1  age        numeric\n",
              "2  estrg_recp numeric\n",
              "3  grade1     numeric\n",
              "4  grade2     numeric\n",
              "5  grade3     numeric\n",
              "6  hormone    numeric\n",
              "7  menopause  numeric\n",
              "8  nodes      numeric\n",
              "9  prog_recp  numeric\n",
              "10 size       numeric"
            ],
            "text/latex": "A data.table: 10 × 2\n\\begin{tabular}{ll}\n id & type\\\\\n <chr> & <chr>\\\\\n\\hline\n\t age        & numeric\\\\\n\t estrg\\_recp & numeric\\\\\n\t grade1     & numeric\\\\\n\t grade2     & numeric\\\\\n\t grade3     & numeric\\\\\n\t hormone    & numeric\\\\\n\t menopause  & numeric\\\\\n\t nodes      & numeric\\\\\n\t prog\\_recp  & numeric\\\\\n\t size       & numeric\\\\\n\\end{tabular}\n",
            "text/markdown": "\nA data.table: 10 × 2\n\n| id &lt;chr&gt; | type &lt;chr&gt; |\n|---|---|\n| age        | numeric |\n| estrg_recp | numeric |\n| grade1     | numeric |\n| grade2     | numeric |\n| grade3     | numeric |\n| hormone    | numeric |\n| menopause  | numeric |\n| nodes      | numeric |\n| prog_recp  | numeric |\n| size       | numeric |\n\n",
            "text/html": [
              "<table class=\"dataframe\">\n",
              "<caption>A data.table: 10 × 2</caption>\n",
              "<thead>\n",
              "\t<tr><th scope=col>id</th><th scope=col>type</th></tr>\n",
              "\t<tr><th scope=col>&lt;chr&gt;</th><th scope=col>&lt;chr&gt;</th></tr>\n",
              "</thead>\n",
              "<tbody>\n",
              "\t<tr><td>age       </td><td>numeric</td></tr>\n",
              "\t<tr><td>estrg_recp</td><td>numeric</td></tr>\n",
              "\t<tr><td>grade1    </td><td>numeric</td></tr>\n",
              "\t<tr><td>grade2    </td><td>numeric</td></tr>\n",
              "\t<tr><td>grade3    </td><td>numeric</td></tr>\n",
              "\t<tr><td>hormone   </td><td>numeric</td></tr>\n",
              "\t<tr><td>menopause </td><td>numeric</td></tr>\n",
              "\t<tr><td>nodes     </td><td>numeric</td></tr>\n",
              "\t<tr><td>prog_recp </td><td>numeric</td></tr>\n",
              "\t<tr><td>size      </td><td>numeric</td></tr>\n",
              "</tbody>\n",
              "</table>\n"
            ]
          },
          "metadata": {
            "tags": []
          }
        },
        {
          "output_type": "display_data",
          "data": {
            "text/plain": [
              "[1] 138"
            ],
            "text/latex": "138",
            "text/markdown": "138",
            "text/html": [
              "138"
            ]
          },
          "metadata": {
            "tags": []
          }
        }
      ]
    },
    {
      "cell_type": "code",
      "metadata": {
        "id": "INbjSl_cw7vf"
      },
      "source": [
        "t <- dplyr::pull(train_gbcs, survtime)\n",
        "qt <- unname(quantile(t, seq(0.2,1,0.2)))"
      ],
      "execution_count": 236,
      "outputs": []
    },
    {
      "cell_type": "code",
      "metadata": {
        "colab": {
          "base_uri": "https://localhost:8080/"
        },
        "id": "4xcdrJzN3RYP",
        "outputId": "0d2ff0b9-5607-495f-f353-d47902804d3e"
      },
      "source": [
        "library(dplyr)"
      ],
      "execution_count": 91,
      "outputs": [
        {
          "output_type": "stream",
          "text": [
            "\n",
            "Attaching package: ‘dplyr’\n",
            "\n",
            "\n",
            "The following objects are masked from ‘package:stats’:\n",
            "\n",
            "    filter, lag\n",
            "\n",
            "\n",
            "The following objects are masked from ‘package:base’:\n",
            "\n",
            "    intersect, setdiff, setequal, union\n",
            "\n",
            "\n"
          ],
          "name": "stderr"
        }
      ]
    },
    {
      "cell_type": "code",
      "metadata": {
        "id": "mL7cpU6K2FS_"
      },
      "source": [
        "train_gbcs_main <- data.frame(train_gbcs[\"censdead\"],train_gbcs[\"survtime\"])\n",
        "df <- train_gbcs_main %>% filter(censdead == 1)\n",
        "df <- dplyr::pull(df, survtime)\n",
        "qt <- unname(quantile(df,seq(0.2,1,0.2)))"
      ],
      "execution_count": 139,
      "outputs": []
    },
    {
      "cell_type": "code",
      "metadata": {
        "colab": {
          "base_uri": "https://localhost:8080/",
          "height": 1000
        },
        "id": "DPxdR1PDvVIB",
        "outputId": "f691d5de-eddc-48a4-cd15-04cc04fc474d"
      },
      "source": [
        "learner <- lrn(\"surv.dnnsurv\", verbose = 2, validation_split = 0.2, early_stopping = FALSE, epochs = 10, cutpoints = qt)\n",
        "\n",
        "\n",
        "learner$train(task_gbcs)\n",
        "learner$model\n",
        "\n",
        "learner$param_set\n",
        "\n",
        "prediction.dnnsurv = learner$predict(test_gbcs) \n",
        "prediction.dnnsurv\n",
        "prediction.dnnsurv$score()"
      ],
      "execution_count": 237,
      "outputs": [
        {
          "output_type": "display_data",
          "data": {
            "text/plain": [
              "\n",
              " DNNSurv Neural Network \n",
              "\n",
              "Call:\n",
              "  survivalmodels::dnnsurv(data = as.data.frame(task$data()), time_variable = task$target_names[1L],      status_variable = task$target_names[2L], cutpoints = c(724.6,      1152, 1545.2, 1873.8, 2668), early_stopping = FALSE, verbose = 2L,      epochs = 10L, validation_split = 0.2)\n",
              "\n",
              "Response:\n",
              "  Surv(time, status)\n",
              "Features:\n",
              "  {age, estrg_recp, grade1, grade2, grade3, hormone, menopause, nodes, prog_recp, size} "
            ]
          },
          "metadata": {
            "tags": []
          }
        },
        {
          "output_type": "display_data",
          "data": {
            "text/plain": [
              "<ParamSet>\n",
              "                      id    class lower upper nlevels        default\n",
              " 1:             baseline ParamDbl  -Inf   Inf     Inf <NoDefault[3]>\n",
              " 2:           batch_size ParamInt     1   Inf     Inf             32\n",
              " 3:               beta_1 ParamDbl     0     1     Inf            0.9\n",
              " 4:               beta_2 ParamDbl     0     1     Inf          0.999\n",
              " 5:            callbacks ParamUty    NA    NA     Inf <NoDefault[3]>\n",
              " 6:             clipnorm ParamDbl  -Inf   Inf     Inf <NoDefault[3]>\n",
              " 7:            clipvalue ParamDbl  -Inf   Inf     Inf <NoDefault[3]>\n",
              " 8:         custom_model ParamUty    NA    NA     Inf <NoDefault[3]>\n",
              " 9:            cutpoints ParamUty    NA    NA     Inf <NoDefault[3]>\n",
              "10:                 cuts ParamInt     1   Inf     Inf              5\n",
              "11:                decay ParamDbl     0   Inf     Inf              0\n",
              "12:       early_stopping ParamLgl    NA    NA       2          FALSE\n",
              "13:               epochs ParamInt     1   Inf     Inf             10\n",
              "14:              epsilon ParamDbl     0   Inf     Inf <NoDefault[3]>\n",
              "15:        initial_epoch ParamInt     0   Inf     Inf              0\n",
              "16:         loss_weights ParamUty    NA    NA     Inf <NoDefault[3]>\n",
              "17:                   lr ParamDbl     0   Inf     Inf           0.02\n",
              "18:            min_delta ParamDbl     0   Inf     Inf              0\n",
              "19:             momentum ParamDbl     0   Inf     Inf              0\n",
              "20:             nesterov ParamLgl    NA    NA       2          FALSE\n",
              "21:            optimizer ParamFct    NA    NA       7           adam\n",
              "22:             patience ParamInt     0   Inf     Inf              0\n",
              "23: restore_best_weights ParamLgl    NA    NA       2          FALSE\n",
              "24:        sample_weight ParamUty    NA    NA     Inf <NoDefault[3]>\n",
              "25:       schedule_decay ParamDbl  -Inf   Inf     Inf           0.04\n",
              "26:              shuffle ParamLgl    NA    NA       2           TRUE\n",
              "27:                steps ParamInt     0   Inf     Inf <NoDefault[3]>\n",
              "28:      steps_per_epoch ParamInt     1   Inf     Inf <NoDefault[3]>\n",
              "29:     validation_split ParamDbl     0     1     Inf              0\n",
              "30:     validation_steps ParamInt     1   Inf     Inf <NoDefault[3]>\n",
              "31:              verbose ParamInt     0     2       3              0\n",
              "32:     weighted_metrics ParamUty    NA    NA     Inf <NoDefault[3]>\n",
              "                      id    class lower upper nlevels        default\n",
              "           parents                              value\n",
              " 1: early_stopping                                   \n",
              " 2:                                                  \n",
              " 3:      optimizer                                   \n",
              " 4:      optimizer                                   \n",
              " 5:                                                  \n",
              " 6:      optimizer                                   \n",
              " 7:      optimizer                                   \n",
              " 8:                                                  \n",
              " 9:                 724.6,1152.0,1545.2,1873.8,2668.0\n",
              "10:                                                  \n",
              "11:      optimizer                                   \n",
              "12:                                             FALSE\n",
              "13:                                                10\n",
              "14:      optimizer                                   \n",
              "15:                                                  \n",
              "16:                                                  \n",
              "17:      optimizer                                   \n",
              "18: early_stopping                                   \n",
              "19:      optimizer                                   \n",
              "20:      optimizer                                   \n",
              "21:                                                  \n",
              "22: early_stopping                                   \n",
              "23: early_stopping                                   \n",
              "24:                                                  \n",
              "25:      optimizer                                   \n",
              "26:                                                  \n",
              "27:                                                  \n",
              "28:                                                  \n",
              "29:                                               0.2\n",
              "30:                                                  \n",
              "31:                                                 2\n",
              "32:                                                  \n",
              "           parents                              value"
            ]
          },
          "metadata": {
            "tags": []
          }
        },
        {
          "output_type": "display_data",
          "data": {
            "text/plain": [
              "<PredictionSurv> for 138 observations:\n",
              "    row_ids time status     crank                     distr\n",
              "          1 2282  FALSE -2173.094 <VectorDistribution[138]>\n",
              "          2 1456   TRUE -2388.824 <VectorDistribution[138]>\n",
              "          3 2563  FALSE -2214.568 <VectorDistribution[138]>\n",
              "---                                                        \n",
              "        136  841  FALSE -1901.169 <VectorDistribution[138]>\n",
              "        137   16  FALSE -1552.732 <VectorDistribution[138]>\n",
              "        138  857  FALSE -2019.060 <VectorDistribution[138]>"
            ]
          },
          "metadata": {
            "tags": []
          }
        },
        {
          "output_type": "display_data",
          "data": {
            "text/plain": [
              "surv.harrell_c \n",
              "     0.7007608 "
            ],
            "text/latex": "\\textbf{surv.harrell\\textbackslash{}\\_c:} 0.700760781764984",
            "text/markdown": "**surv.harrell_c:** 0.700760781764984",
            "text/html": [
              "<strong>surv.harrell_c:</strong> 0.700760781764984"
            ]
          },
          "metadata": {
            "tags": []
          }
        }
      ]
    },
    {
      "cell_type": "code",
      "metadata": {
        "id": "CcA7KxuRB45u"
      },
      "source": [
        "# retrieving mean of dnn\n",
        "a <- prediction.dnnsurv$distr$mean()"
      ],
      "execution_count": 238,
      "outputs": []
    },
    {
      "cell_type": "code",
      "metadata": {
        "id": "fMq4tOA3Hsrg"
      },
      "source": [
        "normalize <- function(x) {\n",
        "return ((x - min(x)) / (max(x) - min(x)))\n",
        "}"
      ],
      "execution_count": 239,
      "outputs": []
    },
    {
      "cell_type": "code",
      "metadata": {
        "id": "FVfWqrPcEMxS"
      },
      "source": [
        "#normalize data and putting in decreasing order\n",
        "n <- normalize(a)\n",
        "a_b <- sort(n, decreasing = TRUE)"
      ],
      "execution_count": 241,
      "outputs": []
    },
    {
      "cell_type": "code",
      "metadata": {
        "colab": {
          "base_uri": "https://localhost:8080/",
          "height": 437
        },
        "id": "zhxdCrDvvX3R",
        "outputId": "bdc70dc4-fb72-4239-e5be-746b13b1d01e"
      },
      "source": [
        "plot(a_b, type = \"s\", main = \"dnn model\", xlab=\"Days\")"
      ],
      "execution_count": 230,
      "outputs": [
        {
          "output_type": "display_data",
          "data": {
            "image/png": "[encoded data removed]",
            "text/plain": [
              "Plot with title “dnn model”"
            ]
          },
          "metadata": {
            "tags": [],
            "image/png": {
              "width": 420,
              "height": 420
            }
          }
        }
      ]
    },
    {
      "cell_type": "code",
      "metadata": {
        "id": "gmI_Xudzya1A"
      },
      "source": [
        "y_hat <- prediction.dnnsurv$crank"
      ],
      "execution_count": 26,
      "outputs": []
    },
    {
      "cell_type": "code",
      "metadata": {
        "id": "Slmuth00ykK0"
      },
      "source": [
        "avg <- colMeans(m, na.rm = FALSE, dims = 1)"
      ],
      "execution_count": 33,
      "outputs": []
    },
    {
      "cell_type": "code",
      "metadata": {
        "id": "wdHp-ls7yzrm"
      },
      "source": [
        "m <- matrix(y_hat)\n",
        "cutpoints = qt,"
      ],
      "execution_count": 32,
      "outputs": []
    },
    {
      "cell_type": "code",
      "metadata": {
        "id": "nD4RCnt5zIQ0"
      },
      "source": [
        "N <- 100\n",
        "x <- vector(\"list\", N)\n",
        "\n",
        "for(i in 1:100) {\n",
        "  learner2 <- lrn(\"surv.dnnsurv\", verbose = 1, validation_split = 0.3, early_stopping = TRUE, patience = 1,\n",
        "                epochs = 10, cutpoints = qt, lr = 0.01, optimizer = 'adam')\n",
        "\n",
        "  learner2$train(task_gbcs)\n",
        "\n",
        "  prediction.dnnsurv2 = learner2$predict(test_gbcs) \n",
        "  r <- prediction.dnnsurv2$score()\n",
        "  x[[i]] <- r\n",
        "\n",
        "}"
      ],
      "execution_count": 145,
      "outputs": []
    },
    {
      "cell_type": "code",
      "metadata": {
        "colab": {
          "base_uri": "https://localhost:8080/",
          "height": 62
        },
        "id": "rs7nqLO0_3u1",
        "outputId": "5aff4b27-eef4-4533-c938-9a291cea6416"
      },
      "source": [
        ""
      ],
      "execution_count": 164,
      "outputs": [
        {
          "output_type": "display_data",
          "data": {
            "text/plain": [
              "[[1]]\n",
              "surv.harrell_c \n",
              "     0.6841364 \n"
            ],
            "text/latex": "\\begin{enumerate}\n\\item \\textbf{surv.harrell\\textbackslash{}\\_c:} 0.684136390686035\n\\end{enumerate}\n",
            "text/markdown": "1. **surv.harrell_c:** 0.684136390686035\n\n\n",
            "text/html": [
              "<ol>\n",
              "\t<li><strong>surv.harrell_c:</strong> 0.684136390686035</li>\n",
              "</ol>\n"
            ]
          },
          "metadata": {
            "tags": []
          }
        }
      ]
    },
    {
      "cell_type": "code",
      "metadata": {
        "colab": {
          "base_uri": "https://localhost:8080/",
          "height": 493
        },
        "id": "uP_F2QPe1Msp",
        "outputId": "e2348864-7b11-452a-d32f-1cfa8d7af9f3"
      },
      "source": [
        "learner.cox = lrn(\"surv.coxph\") \n",
        "\n",
        "learner.cox$train(task_gbcs)\n",
        "learner.cox$model \n",
        "\n",
        "prediction.cox = learner.cox$predict(test_gbcs) \n",
        "prediction.cox\n",
        "prediction.cox$score() "
      ],
      "execution_count": 130,
      "outputs": [
        {
          "output_type": "display_data",
          "data": {
            "text/plain": [
              "Call:\n",
              "survival::coxph(formula = task$formula(), data = task$data(), \n",
              "    x = TRUE)\n",
              "\n",
              "               coef exp(coef) se(coef)      z        p\n",
              "age         0.15550   1.16825  0.14199  1.095  0.27345\n",
              "estrg_recp  0.05275   1.05416  0.11275  0.468  0.63990\n",
              "grade1     -1.28643   0.27626  0.48423 -2.657  0.00789\n",
              "grade2     -0.48236   0.61732  0.19292 -2.500  0.01241\n",
              "grade3           NA        NA  0.00000     NA       NA\n",
              "hormone    -0.22560   0.79804  0.19050 -1.184  0.23631\n",
              "menopause  -0.17756   0.83731  0.29747 -0.597  0.55058\n",
              "nodes       0.29402   1.34182  0.05827  5.046 4.51e-07\n",
              "prog_recp  -1.01213   0.36345  0.25477 -3.973 7.11e-05\n",
              "size        0.22094   1.24725  0.07416  2.979  0.00289\n",
              "\n",
              "Likelihood ratio test=96.67  on 9 df, p=< 2.2e-16\n",
              "n= 548, number of events= 132 "
            ]
          },
          "metadata": {
            "tags": []
          }
        },
        {
          "output_type": "display_data",
          "data": {
            "text/plain": [
              "<PredictionSurv> for 138 observations:\n",
              "    row_ids time status      crank         lp                     distr\n",
              "          1 2282  FALSE -0.5312450 -0.5312450 <VectorDistribution[138]>\n",
              "          2 1456   TRUE -2.3158269 -2.3158269 <VectorDistribution[138]>\n",
              "          3 2563  FALSE -0.4070265 -0.4070265 <VectorDistribution[138]>\n",
              "---                                                                    \n",
              "        136  841  FALSE -0.2694111 -0.2694111 <VectorDistribution[138]>\n",
              "        137   16  FALSE  1.1737511  1.1737511 <VectorDistribution[138]>\n",
              "        138  857  FALSE -0.4004860 -0.4004860 <VectorDistribution[138]>"
            ]
          },
          "metadata": {
            "tags": []
          }
        },
        {
          "output_type": "display_data",
          "data": {
            "text/plain": [
              "surv.harrell_c \n",
              "     0.6897718 "
            ],
            "text/latex": "\\textbf{surv.harrell\\textbackslash{}\\_c:} 0.689771771430969",
            "text/markdown": "**surv.harrell_c:** 0.689771771430969",
            "text/html": [
              "<strong>surv.harrell_c:</strong> 0.689771771430969"
            ]
          },
          "metadata": {
            "tags": []
          }
        }
      ]
    },
    {
      "cell_type": "code",
      "metadata": {
        "id": "zAqSGP6Y-FKx"
      },
      "source": [
        "# retrieving cox mean\n",
        "cox_mean <- prediction.cox$distr$mean()\n",
        "# normalize it and putting in decreasing order\n",
        "cox_n <- normalize(a)\n",
        "a_b_cox <- sort(cox_n, decreasing = TRUE)"
      ],
      "execution_count": 231,
      "outputs": []
    },
    {
      "cell_type": "code",
      "metadata": {
        "colab": {
          "base_uri": "https://localhost:8080/",
          "height": 437
        },
        "id": "BC2koXezIWWC",
        "outputId": "97c99fea-dc98-4428-f4ee-0685cd1fc40f"
      },
      "source": [
        "#plot dnn vs cox model\n",
        "plot(a_b, type = \"s\", col=\"blue\" )\n",
        "points(a_b_cox, col=\"red\", pch=\"\")\n",
        "lines(a_b_cox, col=\"red\",lty=1, type = \"s\")"
      ],
      "execution_count": 249,
      "outputs": [
        {
          "output_type": "display_data",
          "data": {
            "image/png": "[encoded data removed]",
            "text/plain": [
              "plot without title"
            ]
          },
          "metadata": {
            "tags": [],
            "image/png": {
              "width": 420,
              "height": 420
            }
          }
        }
      ]
    },
    {
      "cell_type": "code",
      "metadata": {
        "colab": {
          "base_uri": "https://localhost:8080/",
          "height": 437
        },
        "id": "UusavEMEIchx",
        "outputId": "49d20eb3-d1c3-404a-bbda-e3c852fb43bc"
      },
      "source": [
        "plot(a_b, type = \"s\", col=\"blue\" )\n",
        "par(new=TRUE)\n",
        "plot(a_b_cox, type = \"s\", col=\"red\" )"
      ],
      "execution_count": 243,
      "outputs": [
        {
          "output_type": "display_data",
          "data": {
            "image/png": "[encoded data removed]",
            "text/plain": [
              "plot without title"
            ]
          },
          "metadata": {
            "tags": [],
            "image/png": {
              "width": 420,
              "height": 420
            }
          }
        }
      ]
    },
    {
      "cell_type": "code",
      "metadata": {
        "id": "dI5lwaYfInBN"
      },
      "source": [
        ""
      ],
      "execution_count": null,
      "outputs": []
    }
  ]
}